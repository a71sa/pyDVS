{
 "cells": [
  {
   "cell_type": "code",
   "execution_count": 3,
   "source": [
    "import cv2\r\n",
    "import numpy as np\r\n",
    "\r\n",
    "# Create a VideoCapture object\r\n",
    "cap = cv2.VideoCapture(0)\r\n",
    "\r\n",
    "# Check if camera opened successfully\r\n",
    "if (cap.isOpened() == False): \r\n",
    "  print(\"Unable to read camera feed\")\r\n",
    "\r\n",
    "# Default resolutions of the frame are obtained.The default resolutions are system dependent.\r\n",
    "# We convert the resolutions from float to integer.\r\n",
    "frame_width = int(cap.get(3))\r\n",
    "frame_height = int(cap.get(4))\r\n",
    "\r\n",
    "# Define the codec and create VideoWriter object.The output is stored in 'outpy.avi' file.\r\n",
    "out = cv2.VideoWriter('outpy.avi',cv2.VideoWriter_fourcc('M','J','P','G'), 30, (frame_width,frame_height))\r\n",
    "\r\n",
    "while(True):\r\n",
    "  ret, frame = cap.read()\r\n",
    "\r\n",
    "  if ret == True: \r\n",
    "    \r\n",
    "    # Write the frame into the file 'output.avi'\r\n",
    "    out.write(frame)\r\n",
    "\r\n",
    "    # Display the resulting frame    \r\n",
    "    cv2.imshow('frame',frame)\r\n",
    "\r\n",
    "    # Press Q on keyboard to stop recording\r\n",
    "    if cv2.waitKey(1) & 0xFF == ord('q'):\r\n",
    "      break\r\n",
    "\r\n",
    "  # Break the loop\r\n",
    "  else:\r\n",
    "    break  \r\n",
    "\r\n",
    "# When everything done, release the video capture and video write objects\r\n",
    "cap.release()\r\n",
    "out.release()\r\n",
    "\r\n",
    "# Closes all the frames\r\n",
    "cv2.destroyAllWindows()"
   ],
   "outputs": [],
   "metadata": {}
  },
  {
   "cell_type": "code",
   "execution_count": 1,
   "source": [
    "listofframeR"
   ],
   "outputs": [
    {
     "output_type": "error",
     "ename": "NameError",
     "evalue": "name 'listofframeR' is not defined",
     "traceback": [
      "\u001b[1;31m---------------------------------------------------------------------------\u001b[0m",
      "\u001b[1;31mNameError\u001b[0m                                 Traceback (most recent call last)",
      "\u001b[1;32m<ipython-input-1-abed7321b80c>\u001b[0m in \u001b[0;36m<module>\u001b[1;34m\u001b[0m\n\u001b[1;32m----> 1\u001b[1;33m \u001b[0mlistofframeR\u001b[0m\u001b[1;33m\u001b[0m\u001b[1;33m\u001b[0m\u001b[0m\n\u001b[0m",
      "\u001b[1;31mNameError\u001b[0m: name 'listofframeR' is not defined"
     ]
    }
   ],
   "metadata": {}
  },
  {
   "cell_type": "code",
   "execution_count": null,
   "source": [],
   "outputs": [],
   "metadata": {}
  }
 ],
 "metadata": {
  "orig_nbformat": 4,
  "language_info": {
   "name": "python",
   "version": "3.8.10",
   "mimetype": "text/x-python",
   "codemirror_mode": {
    "name": "ipython",
    "version": 3
   },
   "pygments_lexer": "ipython3",
   "nbconvert_exporter": "python",
   "file_extension": ".py"
  },
  "kernelspec": {
   "name": "python3",
   "display_name": "Python 3.8.10 64-bit"
  },
  "interpreter": {
   "hash": "d1abb36edfc10b1b23f70698bb85d30779c831e4d388ce35ea73954d77a27d45"
  }
 },
 "nbformat": 4,
 "nbformat_minor": 2
}